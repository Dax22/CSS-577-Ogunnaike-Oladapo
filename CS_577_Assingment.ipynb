{
  "nbformat": 4,
  "nbformat_minor": 0,
  "metadata": {
    "colab": {
      "provenance": [],
      "collapsed_sections": []
    },
    "kernelspec": {
      "name": "python3",
      "display_name": "Python 3"
    },
    "language_info": {
      "name": "python"
    }
  },
  "cells": [
    {
      "cell_type": "code",
      "source": [
        "#python code to compute the difference of \n",
        "#two matrices\n",
        "#this operation is to compute 2a-b\n",
        "#of matrix a and b \n",
        "\n",
        "import numpy as np\n",
        "\n",
        "#first step is to multiply matrix a by 2\n",
        "#Multiplication using Numpy also know as vectorization \n",
        "#which main aim to reduce or remove the explicit use of for loops\n",
        "#in the program by which computation becomes faster.\n",
        "\n",
        "a = [[1], [2], [3]]\n",
        "\n",
        "#matrix ([1]\n",
        "#        [2]\n",
        "#        [3])\n",
        "\n",
        "a = np.array(a)\n",
        "a2 = a * 2\n",
        "print(\"2a is\")\n",
        "print(a2)\n",
        "\n",
        "#solve operation 2a - b\n",
        "\n",
        "#creating first matrix \n",
        "A = np.array(a2)\n",
        "\n",
        "#creating second matrix\n",
        "b = [[4], [5], [6]]\n",
        "#matrix ([4]\n",
        "#        [5]\n",
        "#        [6])\n",
        "B = np.array(b)\n",
        "\n",
        "print(\"The matrix 2a is\")\n",
        "print(A)\n",
        "print(\"matrix b is\")\n",
        "print(B)\n",
        "\n",
        "#subtracting 2 matrix\n",
        "print(\"subtraction of 2a - b\")\n",
        "print(np.subtract(A,B))"
      ],
      "metadata": {
        "colab": {
          "base_uri": "https://localhost:8080/"
        },
        "id": "UFVFcarXRcM5",
        "outputId": "ba7d6f36-ddd1-4bac-9958-2bcba70b326b"
      },
      "execution_count": null,
      "outputs": [
        {
          "output_type": "stream",
          "name": "stdout",
          "text": [
            "2a is\n",
            "[[2]\n",
            " [4]\n",
            " [6]]\n",
            "The matrix 2a is\n",
            "[[2]\n",
            " [4]\n",
            " [6]]\n",
            "matrix b is\n",
            "[[4]\n",
            " [5]\n",
            " [6]]\n",
            "subtraction of 2a - b\n",
            "[[-2]\n",
            " [-1]\n",
            " [ 0]]\n"
          ]
        }
      ]
    },
    {
      "cell_type": "code",
      "source": [
        "#python code to find the unit vector of \n",
        "#matrix a \n",
        "\n",
        "\n",
        "import numpy as np\n",
        "\n",
        "a = [[1], [2], [3]]\n",
        "#matrix([1]\n",
        "#       [2]\n",
        "#       [3])\n",
        "\n",
        "vector = np.array(a)\n",
        "unit_vector = vector /np.linalg.norm(vector)\n",
        "print(unit_vector)"
      ],
      "metadata": {
        "colab": {
          "base_uri": "https://localhost:8080/"
        },
        "id": "0WIwx5dwdvtd",
        "outputId": "4afe8d3b-a6ff-4c45-be19-74e4fae03d34"
      },
      "execution_count": null,
      "outputs": [
        {
          "output_type": "stream",
          "name": "stdout",
          "text": [
            "[[0.26726124]\n",
            " [0.53452248]\n",
            " [0.80178373]]\n"
          ]
        }
      ]
    },
    {
      "cell_type": "code",
      "source": [
        "#python code to find the \n",
        "#unit vector of a in direction of a \n",
        "\n",
        "#Python code to find which rows vectors  form an orthogonal set\n",
        "#determine which a is an orthogonal matrix we \n",
        "#multiply the matrix by its transpose to get the identity matrix.\n",
        "\n",
        "M = 3\n",
        "N = 3\n",
        "\n",
        "def transpose(A, b):\n",
        "  for i in range(M):\n",
        "    for j in range(N):\n",
        "      B[i][j] = A[j][i]\n",
        "\n",
        "#driver code \n",
        "B = [[1, 2, 1],\n",
        "     [2, 1, -4],\n",
        "     [3, -2, 1]]\n",
        "\n",
        "\n",
        "# To store result\n",
        "B = [[0 for x in range(M)] for y in range(N)]\n",
        "\n",
        "transpose(A, B)\n",
        "\n",
        "print(\"Transpose of the matrix is\")\n",
        "for i in range(N):\n",
        "  for j in range(M):\n",
        "    print(B[i][j], \" \", end='')\n",
        "print()\n",
        "\n",
        "# muliply A by this transpose \n",
        "\n",
        "import numpy as np\n",
        "\n",
        "b = [[1, 2, 1],\n",
        "     [2, 1, -4],\n",
        "     [3, -2, 1]]\n",
        "\n",
        "arr1 = np.array(A)\n",
        "aT = arr1.transpose()\n",
        "\n",
        "\n",
        "\n",
        "result = a * aT\n",
        "print(\"a aT =\", result)\n",
        "\n",
        "\n",
        "#To find the unit vector in the same \n",
        "#direction as a vector, we divide it by its magnitude. \n",
        "\n",
        "#To Compute the magnitude\n",
        "\n",
        "def magnitude(a):\n",
        "  return math.sqrt(sum(pow(element, 2) for element in a))\n",
        "\n",
        "print('Magnitude of the Vector:', magnitude(np.array(a)))\n",
        "\n",
        "\n",
        "#The unit vector in the direction of the a is\n",
        "\n",
        "def unitVector(a):\n",
        "\n",
        "  a = [[1], [2], [3]]\n",
        "#matrix([1]\n",
        "#       [2]\n",
        "#       [3])\n",
        "\n",
        "vec_dir = np.array(a)\n",
        "mag = magnitute(np.array(a))\n",
        "newVect = vec_dir/mag\n",
        "\n",
        "print('Unit Vector of a', newVect)\n",
        "\n"
      ],
      "metadata": {
        "id": "9uU04S-X5Mty",
        "colab": {
          "base_uri": "https://localhost:8080/",
          "height": 235
        },
        "outputId": "16dd1961-8508-45d0-bf5e-44200b249fa7"
      },
      "execution_count": 2,
      "outputs": [
        {
          "output_type": "error",
          "ename": "NameError",
          "evalue": "ignored",
          "traceback": [
            "\u001b[0;31m---------------------------------------------------------------------------\u001b[0m",
            "\u001b[0;31mNameError\u001b[0m                                 Traceback (most recent call last)",
            "\u001b[0;32m<ipython-input-2-66ef32ee9c18>\u001b[0m in \u001b[0;36m<module>\u001b[0;34m\u001b[0m\n\u001b[1;32m     23\u001b[0m \u001b[0mB\u001b[0m \u001b[0;34m=\u001b[0m \u001b[0;34m[\u001b[0m\u001b[0;34m[\u001b[0m\u001b[0;36m0\u001b[0m \u001b[0;32mfor\u001b[0m \u001b[0mx\u001b[0m \u001b[0;32min\u001b[0m \u001b[0mrange\u001b[0m\u001b[0;34m(\u001b[0m\u001b[0mM\u001b[0m\u001b[0;34m)\u001b[0m\u001b[0;34m]\u001b[0m \u001b[0;32mfor\u001b[0m \u001b[0my\u001b[0m \u001b[0;32min\u001b[0m \u001b[0mrange\u001b[0m\u001b[0;34m(\u001b[0m\u001b[0mN\u001b[0m\u001b[0;34m)\u001b[0m\u001b[0;34m]\u001b[0m\u001b[0;34m\u001b[0m\u001b[0;34m\u001b[0m\u001b[0m\n\u001b[1;32m     24\u001b[0m \u001b[0;34m\u001b[0m\u001b[0m\n\u001b[0;32m---> 25\u001b[0;31m \u001b[0mtranspose\u001b[0m\u001b[0;34m(\u001b[0m\u001b[0mA\u001b[0m\u001b[0;34m,\u001b[0m \u001b[0mB\u001b[0m\u001b[0;34m)\u001b[0m\u001b[0;34m\u001b[0m\u001b[0;34m\u001b[0m\u001b[0m\n\u001b[0m\u001b[1;32m     26\u001b[0m \u001b[0;34m\u001b[0m\u001b[0m\n\u001b[1;32m     27\u001b[0m \u001b[0mprint\u001b[0m\u001b[0;34m(\u001b[0m\u001b[0;34m\"Transpose of the matrix is\"\u001b[0m\u001b[0;34m)\u001b[0m\u001b[0;34m\u001b[0m\u001b[0;34m\u001b[0m\u001b[0m\n",
            "\u001b[0;31mNameError\u001b[0m: name 'A' is not defined"
          ]
        }
      ]
    },
    {
      "cell_type": "code",
      "source": [
        "#python code to find the norm of a Matrix\n",
        "\n",
        "import numpy as np\n",
        "\n",
        "#initialize matirx\n",
        "\n",
        "a = [[1], [2], [3]]\n",
        "#matrix([1]\n",
        "#       [2]\n",
        "#       [3])\n",
        "\n",
        "mat = np.array(a)\n",
        "\n",
        "#compute norm of a \n",
        "\n",
        "a_norm = np.linalg.norm(mat)\n",
        "\n",
        "print(\"matrix Norm\")\n",
        "print(a_norm)\n"
      ],
      "metadata": {
        "id": "cPX3LqN0uqrW",
        "colab": {
          "base_uri": "https://localhost:8080/"
        },
        "outputId": "e36fd8ff-4f90-42f6-900b-a9d23f36abe6"
      },
      "execution_count": null,
      "outputs": [
        {
          "output_type": "stream",
          "name": "stdout",
          "text": [
            "matrix Norm\n",
            "3.7416573867739413\n"
          ]
        }
      ]
    },
    {
      "cell_type": "code",
      "source": [
        "#Python code to find the angle of \n",
        "#a relative to the positive a \n",
        "# vector = i + 3j\n",
        "\n",
        "#The positive direction of x-axis can be \n",
        "#represented usng the following vector representation\n",
        "#[1,2,3]\n",
        "\n",
        "#In terms of unit vectors, we can express it as follows\n",
        "#1i + 2j + 3k where i, j, k , Where, \n",
        "#denotes the vector in the direction of the positive x-axis\n",
        "\n",
        "\n",
        "a = [1, 2, 3]\n",
        "\n",
        "def dotProduct(a):\n",
        "\n",
        "#The dot product between two vectors\n",
        "#<1, 2>.<1,SQR 3 >= 1 + 2 \n",
        "\n",
        "\n",
        "\n",
        "\n"
      ],
      "metadata": {
        "id": "v0Zif2Km9PrJ",
        "colab": {
          "base_uri": "https://localhost:8080/",
          "height": 130
        },
        "outputId": "5c182bc8-0aad-47f4-ea67-d43db5180659"
      },
      "execution_count": null,
      "outputs": [
        {
          "output_type": "error",
          "ename": "SyntaxError",
          "evalue": "ignored",
          "traceback": [
            "\u001b[0;36m  File \u001b[0;32m\"<ipython-input-7-770263665c3c>\"\u001b[0;36m, line \u001b[0;32m23\u001b[0m\n\u001b[0;31m    \u001b[0m\n\u001b[0m    ^\u001b[0m\n\u001b[0;31mSyntaxError\u001b[0m\u001b[0;31m:\u001b[0m unexpected EOF while parsing\n"
          ]
        }
      ]
    },
    {
      "cell_type": "code",
      "source": [
        "#Python code to find the direction\n",
        "#cosine of\n",
        "#the component of the vector would be\n",
        "#a1,a2, and a3 where a1 = 1, a2 = 2 and a3 = 3\n",
        "# cos a = a1 / |a| , cos b = a2 / |a|, cos c = a3 / |a|\n",
        "\n",
        "import numpy as np\n",
        "import math\n",
        "\n",
        "a =[1, 2, 3]\n",
        "\n",
        "value = np.array(a)\n",
        "sqrsum = np.sum(value**2)\n",
        "mag = math.sqrt(sqrsum)\n",
        "\n",
        "# to find all 3 direction cosines \n",
        "\n",
        "dircosine = np.array(a)\n",
        "cosine = np.array(a) / mag\n",
        "cos_value = np.cos(cosine)\n",
        "\n",
        "print(\"Direction cosines\", cosine)\n",
        "print(\"for cosine of vectors a1 , a2 and a3\", cos_value)\n",
        "\n",
        "\n",
        "\n",
        "\n",
        "  \n"
      ],
      "metadata": {
        "id": "mKmmFqLSLbdQ",
        "colab": {
          "base_uri": "https://localhost:8080/"
        },
        "outputId": "48801497-6c12-45d3-d5e1-3c53953eeb16"
      },
      "execution_count": null,
      "outputs": [
        {
          "output_type": "stream",
          "name": "stdout",
          "text": [
            "Direction cosines [0.26726124 0.53452248 0.80178373]\n",
            "for cosine of vectors a1 , a2 and a3 [0.96449779 0.86051199 0.69542604]\n"
          ]
        }
      ]
    },
    {
      "cell_type": "code",
      "source": [
        "#python code to calculate the angle between \n",
        "#a and b\n",
        "\n",
        "import numpy as np\n",
        "import math\n",
        "\n",
        "#first calculate the dot product of the two vectors \n",
        "\n",
        "a = [1, 2, 3]\n",
        "#matrix([1]\n",
        "#       [2]\n",
        "#       [3])\n",
        "\n",
        "b = [4, 5, 6]\n",
        "#matrix([4]\n",
        "#       [5]\n",
        "#       [6])\n",
        "\n",
        "dotP = np.dot(a, b)\n",
        "\n",
        "#calculate the magnitude of a\n",
        "\n",
        "value = np.array(a)\n",
        "sqrsum = np.sum(value**2)\n",
        "mag = math.sqrt(sqrsum)\n",
        " \n",
        "\n",
        "#calculate the magnitude of b\n",
        "value = np.array(b)\n",
        "sqrsum = np.sum(value**2)\n",
        "magb = math.sqrt(sqrsum)\n",
        "\n",
        "#To calculate the angle between a and b \n",
        "# Cos a.b /||a|| ||b||\n",
        "\n",
        "#product of the maganitude\n",
        "\n",
        "mag_product = mag * magb\n",
        "cos_ab = dotP / mag_product\n",
        "result = math.acos(cos_ab)\n",
        "\n",
        "print(result)\n",
        "print(\"the angle between a and b \", math.degrees(result))\n",
        "print(\"The Dot product of the a and b is:\", dotP)\n",
        "print(\"magnitude of a\", mag)\n",
        "print(\"magnitude of b\", magb)\n",
        "\n"
      ],
      "metadata": {
        "id": "hXCRPyAcuNTi",
        "colab": {
          "base_uri": "https://localhost:8080/"
        },
        "outputId": "8de1259e-c9a1-4ff9-bdcf-8bc848497970"
      },
      "execution_count": null,
      "outputs": [
        {
          "output_type": "stream",
          "name": "stdout",
          "text": [
            "0.2257261285527342\n",
            "the angle between a and b  12.933154491899135\n",
            "The Dot product of the a and b is: 32\n",
            "magnitude of a 3.7416573867739413\n",
            "magnitude of b 8.774964387392123\n"
          ]
        }
      ]
    },
    {
      "cell_type": "code",
      "source": [
        "#python code to calculate the dot product of \n",
        "#2 matrices a .b and b . a\n",
        "\n",
        "import numpy as np\n",
        "\n",
        "a = [1, 2, 3]\n",
        "b = [4, 5, 6]\n",
        "\n",
        "dotP = np.dot(a, b)\n",
        "dotPb = np.dot(b, a)\n",
        "print(dotP)\n",
        "print(dotPb)\n"
      ],
      "metadata": {
        "colab": {
          "base_uri": "https://localhost:8080/"
        },
        "id": "XDIKC8fxvJHq",
        "outputId": "c2a064c4-d4c6-4379-d54d-ad39f27f1dc1"
      },
      "execution_count": null,
      "outputs": [
        {
          "output_type": "stream",
          "name": "stdout",
          "text": [
            "32\n",
            "32\n"
          ]
        }
      ]
    },
    {
      "cell_type": "code",
      "source": [
        "#python code to multiply matrix a and b\n",
        "\n",
        "def multiply(a,b):\n",
        "  result = [[0], [0], [0]]\n",
        "\n",
        "  for i in range(len(a)):\n",
        "\n",
        "    for j in range(len(b[0])):\n",
        "\n",
        "      for k in range(len(b)):\n",
        "        result[i][j] += a[i][j] * b[k][j]\n",
        "\n",
        "  for p in result:\n",
        "    print(p)\n",
        "\n",
        "a = [[1], [2], [3]]\n",
        "\n",
        "b = [[4], [5], [6]]\n",
        "\n",
        "print(result)\n",
        "multiply(a,b)\n"
      ],
      "metadata": {
        "colab": {
          "base_uri": "https://localhost:8080/",
          "height": 217
        },
        "id": "X9w-6YTw7LfL",
        "outputId": "dcc456f0-c14d-4983-c5c0-c73b6967930f"
      },
      "execution_count": 4,
      "outputs": [
        {
          "output_type": "error",
          "ename": "NameError",
          "evalue": "ignored",
          "traceback": [
            "\u001b[0;31m---------------------------------------------------------------------------\u001b[0m",
            "\u001b[0;31mNameError\u001b[0m                                 Traceback (most recent call last)",
            "\u001b[0;32m<ipython-input-4-6c7afb06b28f>\u001b[0m in \u001b[0;36m<module>\u001b[0;34m\u001b[0m\n\u001b[1;32m     18\u001b[0m \u001b[0mb\u001b[0m \u001b[0;34m=\u001b[0m \u001b[0;34m[\u001b[0m\u001b[0;34m[\u001b[0m\u001b[0;36m4\u001b[0m\u001b[0;34m]\u001b[0m\u001b[0;34m,\u001b[0m \u001b[0;34m[\u001b[0m\u001b[0;36m5\u001b[0m\u001b[0;34m]\u001b[0m\u001b[0;34m,\u001b[0m \u001b[0;34m[\u001b[0m\u001b[0;36m6\u001b[0m\u001b[0;34m]\u001b[0m\u001b[0;34m]\u001b[0m\u001b[0;34m\u001b[0m\u001b[0;34m\u001b[0m\u001b[0m\n\u001b[1;32m     19\u001b[0m \u001b[0;34m\u001b[0m\u001b[0m\n\u001b[0;32m---> 20\u001b[0;31m \u001b[0mprint\u001b[0m\u001b[0;34m(\u001b[0m\u001b[0mresult\u001b[0m\u001b[0;34m)\u001b[0m\u001b[0;34m\u001b[0m\u001b[0;34m\u001b[0m\u001b[0m\n\u001b[0m\u001b[1;32m     21\u001b[0m \u001b[0mmultiply\u001b[0m\u001b[0;34m(\u001b[0m\u001b[0ma\u001b[0m\u001b[0;34m,\u001b[0m\u001b[0mb\u001b[0m\u001b[0;34m)\u001b[0m\u001b[0;34m\u001b[0m\u001b[0;34m\u001b[0m\u001b[0m\n",
            "\u001b[0;31mNameError\u001b[0m: name 'result' is not defined"
          ]
        }
      ]
    },
    {
      "cell_type": "code",
      "source": [
        "#python code to multiply matrix b and c\n",
        "\n",
        "def multiply(b,a):\n",
        "  result = [[0], [0], [0]]\n",
        "\n",
        "  for i in range(len(b)):\n",
        "\n",
        "    for j in range(len(a[0])):\n",
        "\n",
        "      for k in range(len(a)):\n",
        "        result[i][j] += a[i][j] * b[k][j]\n",
        "\n",
        "  for p in result:\n",
        "    print(p)\n",
        "\n",
        "b = [[1], [2], [3]]\n",
        "\n",
        "a = [[4], [5], [6]]\n",
        "\n",
        "print(result)\n",
        "multiply(a,b)"
      ],
      "metadata": {
        "colab": {
          "base_uri": "https://localhost:8080/"
        },
        "id": "UfXn73KstDJD",
        "outputId": "7bbaf2ef-0219-41e4-c7da-ad50dcf3d333"
      },
      "execution_count": null,
      "outputs": [
        {
          "output_type": "stream",
          "name": "stdout",
          "text": [
            "[[  1   8   0]\n",
            " [  8 -10  30]\n",
            " [ -1   3  -3]]\n",
            "[15]\n",
            "[30]\n",
            "[45]\n"
          ]
        }
      ]
    },
    {
      "cell_type": "code",
      "source": [
        "#python code to calculate the dot product of a . b using\n",
        "# the angle between a and b \n",
        "\n",
        "# we first find the magnitude of both vectors \n",
        "\n",
        "import numpy as np\n",
        "import math\n",
        "\n",
        "\n",
        "a = [1, 2, 3]\n",
        "#matrix([1]\n",
        "#       [2]\n",
        "#       [3])\n",
        "\n",
        "b = [4, 5, 6]\n",
        "#matrix([4]\n",
        "#       [5]\n",
        "#       [6])\n",
        "\n",
        "\n",
        "#calculate the magnitude of a \n",
        "value = np.array(a)\n",
        "sqrsum = np.sum(value**2)\n",
        "mag = math.sqrt(sqrsum)   \n",
        "\n",
        "\n",
        "#calculate the magnitude of b\n",
        "value = np.array(b)\n",
        "sqrsum = np.sum(value**2)\n",
        "magb = math.sqrt(sqrsum)\n",
        "\n",
        "#To calculate the angle between a and b \n",
        "# Cos a.b /||a|| ||b||\n",
        "\n",
        "\n",
        "#product of the maganitude\n",
        "\n",
        "mag_product = mag * magb\n",
        "cos_ab = dotP / mag_product\n",
        "result = math.acos(cos_ab)\n",
        "\n",
        "print(\"the angle between a and b \", math.degrees(result))"
      ],
      "metadata": {
        "colab": {
          "base_uri": "https://localhost:8080/"
        },
        "id": "KmRfAVqiuZNL",
        "outputId": "0da31aac-2362-49f0-b029-dd807e3c6e7a"
      },
      "execution_count": null,
      "outputs": [
        {
          "output_type": "stream",
          "name": "stdout",
          "text": [
            "the angle between a and b  12.933154491899135\n"
          ]
        }
      ]
    },
    {
      "cell_type": "code",
      "source": [
        "from re import S\n",
        "#python code to find the scaler projection of b onto a\n",
        "\n",
        "\"\"\"A scalar projection is given by the dot product of a \n",
        "vector with a unit vector for that direction\"\"\"\n",
        "\n",
        "#in this case the vector is b with the unit vector of a\n",
        "\n",
        "import numpy as np\n",
        "\n",
        "a = [[1], [2], [3]]\n",
        "#matrix([1]\n",
        "#       [2]\n",
        "#       [3])\n",
        "\n",
        "b = [[4], [5], [6]]\n",
        "#matrix([1]\n",
        "#       [2]\n",
        "#       [3])\n",
        "\n",
        "vector = np.array(a)\n",
        "unit_vector = vector /np.linalg.norm(vector)\n",
        "\n",
        "#Scalar projection \n",
        "\n",
        "print(\"The unit vector of a\", unit_vector)\n",
        "print(\"scalar projection\",)\n"
      ],
      "metadata": {
        "colab": {
          "base_uri": "https://localhost:8080/"
        },
        "id": "e1xpc_OR_0h_",
        "outputId": "181217be-f81b-4cfc-f5e1-a9b037f4438e"
      },
      "execution_count": 5,
      "outputs": [
        {
          "output_type": "stream",
          "name": "stdout",
          "text": [
            "The unit vector of a [[0.26726124]\n",
            " [0.53452248]\n",
            " [0.80178373]]\n",
            "scalar projection\n"
          ]
        }
      ]
    },
    {
      "cell_type": "code",
      "source": [
        "#python code to find the linear dependency between a, b, and c \n",
        "# import sympy\n",
        "\n",
        "\"\"\"consider vectors a, b and c where c = a + 2b \n",
        "  for any linear conbination of a, b and c such as\n",
        "  2a + b - c  where c can be replaced by a + 2b\"\"\"\n",
        "\n",
        "from sympy import *\n",
        "\n",
        "#generate a matrix and get it into row\n",
        "#echelon form\n",
        "\n",
        "M = Matrix([[1, 2, 3], [4, 5, 6], [-1, 1, 3]])\n",
        "print(\"Matrix : {} \".format(M))\n",
        "\n",
        "# Use sympy.rref() method\n",
        "M_rref = M.rref()\n",
        "\t\n",
        "# The output show two rows with non zero entries \n",
        "#this implies a free variable that could be set to anything \n",
        "#the set of vectors is linearly dependent\n",
        "\n",
        "print(\"The Row echelon form of matrix M and the pivot columns : {}\".format(M_rref))\n",
        "\n"
      ],
      "metadata": {
        "colab": {
          "base_uri": "https://localhost:8080/"
        },
        "id": "DgkJb3ICHLkS",
        "outputId": "beeee7f6-ee50-424e-954d-f8e5c401aefc"
      },
      "execution_count": null,
      "outputs": [
        {
          "output_type": "stream",
          "name": "stdout",
          "text": [
            "Matrix : Matrix([[1, 2, 3], [4, 5, 6], [-1, 1, 3]]) \n",
            "The Row echelon form of matrix M and the pivot columns : (Matrix([\n",
            "[1, 0, -1],\n",
            "[0, 1,  2],\n",
            "[0, 0,  0]]), (0, 1))\n"
          ]
        }
      ]
    },
    {
      "cell_type": "markdown",
      "source": [
        "A(12) Linear Dependency between a , b and c"
      ],
      "metadata": {
        "id": "OenZMzNE6e1r"
      }
    },
    {
      "cell_type": "code",
      "source": [
        "#python code to show the linear dependency\n",
        "\n",
        "import sympy\n",
        "import numpy as np\n",
        "mat = np.array([[1, 2, 3], [4, 5, 6], [-1, 1, 3]])\n",
        "inds = sympy.Matrix(mat).T.rref()   # to check the rows you need to transpose!\n",
        "\n",
        "\n",
        "print(inds)\n",
        "print(\"this shows row 0 and 1 are linear independant while row 2 isn't\")"
      ],
      "metadata": {
        "colab": {
          "base_uri": "https://localhost:8080/"
        },
        "id": "J32PMAYzNdlE",
        "outputId": "2534a1bc-dd76-49c4-b918-0561ec2ba8a7"
      },
      "execution_count": null,
      "outputs": [
        {
          "output_type": "stream",
          "name": "stdout",
          "text": [
            "(Matrix([\n",
            "[1, 0,  3],\n",
            "[0, 1, -1],\n",
            "[0, 0,  0]]), (0, 1))\n",
            "this shows row 0 and 1 are linear independant while row 2 isn't\n"
          ]
        }
      ]
    },
    {
      "cell_type": "markdown",
      "source": [
        "A(13) aTb and abT"
      ],
      "metadata": {
        "id": "7lyps4Ar7xam"
      }
    },
    {
      "cell_type": "code",
      "source": [
        "#python code to find aT b of \n",
        "#where T is the transpose of the matrix\n",
        "\n",
        "# Python3 Program to find\n",
        "# transpose of a matrix\n",
        "\n",
        "M = 3\n",
        "N = 1\n",
        "\n",
        "# This function stores\n",
        "# transpose of A[][] in B[][]\n",
        "\n",
        "def transpose(A, B):\n",
        "\n",
        "  for i in range(N):\n",
        "    for j in range(M):\n",
        "      B[i][j] = A[j][i]\n",
        "\n",
        "# driver code\n",
        "A = [ [1],\n",
        "[2],\n",
        "[3]]\n",
        "\n",
        "\n",
        "# To store result\n",
        "B = [[0 for x in range(M)] for y in range(N)]\n",
        "\n",
        "transpose(A, B)\n",
        "\n",
        "print(\"Transpose of the matrix is\")\n",
        "for i in range(N):\n",
        "  for j in range(M):\n",
        "    print(B[i][j], \" \", end='')\n",
        "print()\n",
        "\n",
        "\n",
        "# to find the aT b \n",
        "# multiply transpose of a by b \n",
        "import numpy as np\n",
        "\n",
        "b = [[4],\n",
        "     [5],\n",
        "     [6]]\n",
        "\n",
        "arr1 = np.array(A)\n",
        "aT = arr1.transpose()\n",
        "\n",
        "\n",
        "\n",
        "result = aT * b\n",
        "print(\"aT b =\", result)"
      ],
      "metadata": {
        "id": "Lc9O75iXQePF",
        "colab": {
          "base_uri": "https://localhost:8080/"
        },
        "outputId": "da2cf97a-cd21-446f-8f5b-bb814327b76f"
      },
      "execution_count": null,
      "outputs": [
        {
          "output_type": "stream",
          "name": "stdout",
          "text": [
            "Transpose of the matrix is\n",
            "1  2  3  \n",
            "aT b = [[ 4  8 12]\n",
            " [ 5 10 15]\n",
            " [ 6 12 18]]\n"
          ]
        }
      ]
    },
    {
      "cell_type": "code",
      "source": [
        "#python code to find the operation abT\n",
        "#where bT is the transpose b\n",
        "\n",
        "#Finding the transpose of b \n",
        "\n",
        "M = 3\n",
        "N = 1\n",
        "\n",
        "def transpose(B, A):\n",
        " for i in range(M):\n",
        "    for j in range(N):\n",
        "      A[j][i] = B[i][j] \n",
        "\n",
        "\n",
        "#driver code \n",
        "B = [[4],\n",
        "     [5],\n",
        "     [6]]\n",
        "\n",
        "# to store result\n",
        "\n",
        "A = [[0 for x in range(M)] for y in range(N)]\n",
        "\n",
        "transpose (B, A)\n",
        "\n",
        "print(\"Transpose of a Matrix b\")\n",
        "for i in range(M):\n",
        "    for j in range(N):\n",
        "      print(A[j][i], \" \", end='')\n",
        "\n",
        "# to find a bT\n",
        "import numpy as np\n",
        "\n",
        "a = [[1],\n",
        "     [2],\n",
        "     [3]]\n",
        "\n",
        "arr2 = np.array(B)\n",
        "bT = arr2.transpose()\n",
        "resultt = a * bT\n",
        "print(\"a bT =\", result)"
      ],
      "metadata": {
        "colab": {
          "base_uri": "https://localhost:8080/"
        },
        "id": "TPcct5WuSp1S",
        "outputId": "67d1e19c-1d1e-4716-acb8-26d646f0716c"
      },
      "execution_count": null,
      "outputs": [
        {
          "output_type": "stream",
          "name": "stdout",
          "text": [
            "Transpose of a Matrix b\n",
            "4  5  6  a bT = [[ 4  8 12]\n",
            " [ 5 10 15]\n",
            " [ 6 12 18]]\n"
          ]
        }
      ]
    },
    {
      "cell_type": "code",
      "source": [
        "#python code to solve the operation 2A - B \n",
        "# first multiply 2 vector A\n",
        "\n",
        "A = [[1, 2, 3],\n",
        "     [4, -2, 3],\n",
        "     [0, 5, -1]]\n",
        "\n",
        "B = [[1, 2, 1],\n",
        "     [2, 1, -4],\n",
        "     [3, -2, 1]]\n",
        "\n",
        "a = np.array(A)\n",
        "a2 = 2 * a\n",
        "print(\"2A =\", a2)\n",
        "\n",
        "# to find 2A - B \n",
        "result = np.subtract(a2, B)\n",
        "print(\"2A -B =\", result)"
      ],
      "metadata": {
        "colab": {
          "base_uri": "https://localhost:8080/"
        },
        "id": "P7Jcq-BUhflM",
        "outputId": "2ae5cdeb-dc26-4ce2-9c78-56b04be2209a"
      },
      "execution_count": null,
      "outputs": [
        {
          "output_type": "stream",
          "name": "stdout",
          "text": [
            "2A = [[ 2  4  6]\n",
            " [ 8 -4  6]\n",
            " [ 0 10 -2]]\n",
            "2A -B = [[ 1  2  5]\n",
            " [ 6 -5 10]\n",
            " [-3 12 -3]]\n"
          ]
        }
      ]
    },
    {
      "cell_type": "markdown",
      "source": [
        "B(2) AB and BA"
      ],
      "metadata": {
        "id": "HDljL7uSawCR"
      }
    },
    {
      "cell_type": "code",
      "source": [
        "#python code to multiply matrix AB and BA\n",
        "\n",
        "A = [[1, 2, 3],\n",
        "     [4, -2, 3],\n",
        "     [0, 5, -1]]\n",
        "\n",
        "B = [[1, 2, 1],\n",
        "     [2, 1, -4],\n",
        "     [3, -2, 1]]\n",
        "\n",
        "a = np.array(A)\n",
        "b = np.array(B)\n",
        "\n",
        "result = np.multiply(a, b)\n",
        "result2 = np.multiply(b, a)\n",
        "print(\"AB =\", result)\n",
        "print(\"BA =\", result2)"
      ],
      "metadata": {
        "colab": {
          "base_uri": "https://localhost:8080/"
        },
        "id": "UDD2qCETknL2",
        "outputId": "fd3c1c95-6653-4134-c5b8-f97c9c67e444"
      },
      "execution_count": null,
      "outputs": [
        {
          "output_type": "stream",
          "name": "stdout",
          "text": [
            "AB = [[  1   4   3]\n",
            " [  8  -2 -12]\n",
            " [  0 -10  -1]]\n",
            "BA = [[  1   4   3]\n",
            " [  8  -2 -12]\n",
            " [  0 -10  -1]]\n"
          ]
        }
      ]
    },
    {
      "cell_type": "markdown",
      "source": [
        "B(4) This is to find the magnitude of |A| and |c|"
      ],
      "metadata": {
        "id": "LiahiIGgzJuA"
      }
    },
    {
      "cell_type": "code",
      "source": [
        "import numpy as np\n",
        "import math\n",
        "\n",
        "#first calculate the dot product of the two vectors \n",
        "\n",
        "A = [[1, 2, 3],\n",
        "     [4, -2, 3],\n",
        "     [0, 5, -1]]\n",
        "\n",
        "C = [[1, 2, 3],\n",
        "     [4, 5, 6],\n",
        "     [-1, 1, 3]]\n",
        "\n",
        "\n",
        "dotP = np.dot(A, C)\n",
        "print(\"dot Product\", dotP)\n",
        "\n",
        "#calculate the magnitude of A\n",
        "\n",
        "value = np.array(A)\n",
        "sqrsum = np.sum(value**2)\n",
        "mag = math.sqrt(sqrsum)\n",
        "print(\"|A| =\", mag)\n",
        " \n",
        "\n",
        "#calculate the magnitude of C\n",
        "value = np.array(C)\n",
        "sqrsum = np.sum(value**2)\n",
        "magb = math.sqrt(sqrsum)\n",
        "print(\"|C| = \", magb)"
      ],
      "metadata": {
        "colab": {
          "base_uri": "https://localhost:8080/"
        },
        "id": "UPGuN-a11Ius",
        "outputId": "db5d8caa-85a5-4166-fa22-35c3d3129c99"
      },
      "execution_count": null,
      "outputs": [
        {
          "output_type": "stream",
          "name": "stdout",
          "text": [
            "dot Product [[ 6 15 24]\n",
            " [-7  1  9]\n",
            " [21 24 27]]\n",
            "|A| = 8.306623862918075\n",
            "|C| =  10.099504938362077\n"
          ]
        }
      ]
    },
    {
      "cell_type": "markdown",
      "source": [
        "This code is to find the transpose of the product of the matrix AB "
      ],
      "metadata": {
        "id": "cnw_TqnbZgY1"
      }
    },
    {
      "cell_type": "code",
      "source": [
        "# python code to find the transpose of product \n",
        "# of the Matrix AB \n",
        "\n",
        "# first find the product of A and b \n",
        "\n",
        "A = [[1, 2, 3],\n",
        "     [4, -2, 3],\n",
        "     [0, 5, -1]]\n",
        "\n",
        "B = [[1, 2, 1],\n",
        "     [2, 1, -4],\n",
        "     [3, -2, 1]]\n",
        "\n",
        "a = np.array(A)\n",
        "b = np.array(B)\n",
        "\n",
        "result = np.multiply(a, b)\n",
        "print(\"Product of AB =\", result)\n",
        "arr1 = np.array(result)\n",
        "transposeAB = np.transpose(arr1)\n",
        "\n",
        "print(\"Transpose of the product of AB\",transposeAB)\n",
        "\n",
        "#to find the product of BT AT ie the product of \n",
        "# transpose of B and A \n",
        "# first find the transpose of B\n",
        "\n",
        "arr_trans = np.array(B)\n",
        "TB = np.transpose(arr_trans)\n",
        "print(\"Transpose of Matrix B\", TB)\n",
        "\n",
        "# Transpose of matrix A\n",
        "arr_trans2 = np.array(A)\n",
        "TA = np.array(B)\n",
        "print(\"Transpose of Matrix A\", TA)\n",
        "\n",
        "#The product of BT and AT\n",
        "\n",
        "product = np.multiply(TB, TA)\n",
        "print(\"BT AT =\", product)"
      ],
      "metadata": {
        "colab": {
          "base_uri": "https://localhost:8080/"
        },
        "id": "lLq59JsKohUb",
        "outputId": "6ed52993-025e-40d7-f9ca-b3d9bda390b6"
      },
      "execution_count": null,
      "outputs": [
        {
          "output_type": "stream",
          "name": "stdout",
          "text": [
            "Product of AB = [[  1   4   3]\n",
            " [  8  -2 -12]\n",
            " [  0 -10  -1]]\n",
            "Transpose of the product of AB [[  1   8   0]\n",
            " [  4  -2 -10]\n",
            " [  3 -12  -1]]\n",
            "Transpose of Matrix B [[ 1  2  3]\n",
            " [ 2  1 -2]\n",
            " [ 1 -4  1]]\n",
            "Transpose of Matrix A [[ 1  2  1]\n",
            " [ 2  1 -4]\n",
            " [ 3 -2  1]]\n",
            "BT AT = [[1 4 3]\n",
            " [4 1 8]\n",
            " [3 8 1]]\n"
          ]
        }
      ]
    },
    {
      "cell_type": "markdown",
      "source": [
        "(B5) The following is to find the row vectors that form an orthogonal set.\n",
        "A matrix is said to be an orthogonal matrix if the product of a matrix and its transpose gives an identity value. "
      ],
      "metadata": {
        "id": "WRnD2Ik7ZRUz"
      }
    },
    {
      "cell_type": "code",
      "source": [
        "#Python code to find which rows vectors  form an orthogonal set\n",
        "# determine which a is an orthogonal matrix we \n",
        "# multiply the matrix by its transpose to get the identity matrix.\n",
        "\n",
        "M = 3\n",
        "N = 3\n",
        "\n",
        "def transpose(A, b):\n",
        "  for i in range(M):\n",
        "    for j in range(N):\n",
        "      B[i][j] = A[j][i]\n",
        "\n",
        "#driver code \n",
        "B = [[1, 2, 1],\n",
        "     [2, 1, -4],\n",
        "     [3, -2, 1]]\n",
        "\n",
        "\n",
        "# To store result\n",
        "B = [[0 for x in range(M)] for y in range(N)]\n",
        "\n",
        "transpose(A, B)\n",
        "\n",
        "print(\"Transpose of the matrix B is\")\n",
        "for i in range(N):\n",
        "  for j in range(M):\n",
        "    print(B[i][j], \" \", end='')\n",
        "print()\n",
        "\n",
        "# muliply A by this transpose \n",
        "\n",
        "import numpy as np\n",
        "\n",
        "b = [[1, 2, 1],\n",
        "     [2, 1, -4],\n",
        "     [3, -2, 1]]\n",
        "\n",
        "arr1 = np.array(B)\n",
        "bT = arr1.transpose()\n",
        "\n",
        "\n",
        "\n",
        "result = b * bT\n",
        "print(\"b bT =\", result)\n",
        "\n"
      ],
      "metadata": {
        "id": "ydntiMGKwvFi",
        "colab": {
          "base_uri": "https://localhost:8080/"
        },
        "outputId": "fa498989-f41a-4cd3-b688-5e4bd87c0fc2"
      },
      "execution_count": null,
      "outputs": [
        {
          "output_type": "stream",
          "name": "stdout",
          "text": [
            "Transpose of the matrix B is\n",
            "1  4  0  2  -2  5  1  3  -1  \n",
            "b bT = [[  1   4   1]\n",
            " [  8  -2 -12]\n",
            " [  0 -10  -1]]\n"
          ]
        }
      ]
    },
    {
      "cell_type": "code",
      "source": [
        "#Python code to find which rows vectors  form an orthogonal set\n",
        "# determine which a is an orthogonal matrix we \n",
        "# multiply the matrix by its transpose to get the identity matrix.\n",
        "\n",
        "M = 3\n",
        "N = 3\n",
        "\n",
        "def transpose(A, b):\n",
        "  for i in range(M):\n",
        "    for j in range(N):\n",
        "      B[i][j] = A[j][i]\n",
        "\n",
        "#driver code \n",
        "A = [[1, 2, 3],\n",
        "     [4, -2, 3],\n",
        "     [0, 5, -1]]\n",
        "\n",
        "\n",
        "# To store result\n",
        "B = [[0 for x in range(M)] for y in range(N)]\n",
        "\n",
        "transpose(A, B)\n",
        "\n",
        "print(\"Transpose of the matrix A is\")\n",
        "for i in range(N):\n",
        "  for j in range(M):\n",
        "    print(B[i][j], \" \", end='')\n",
        "print()\n",
        "\n",
        "# muliply A by this transpose \n",
        "\n",
        "import numpy as np\n",
        "\n",
        "A = [[1, 2, 1],\n",
        "     [4, -2, 3],\n",
        "     [0, 5, -1]]\n",
        "\n",
        "arr1 = np.array(A)\n",
        "aT = arr1.transpose()\n",
        "\n",
        "\n",
        "\n",
        "result = a * aT\n",
        "print(\"a aT =\", result)\n",
        "\n"
      ],
      "metadata": {
        "colab": {
          "base_uri": "https://localhost:8080/"
        },
        "id": "ee29D-BBqc6A",
        "outputId": "9013ff75-bc34-44dd-91c1-e48c6d164d83"
      },
      "execution_count": null,
      "outputs": [
        {
          "output_type": "stream",
          "name": "stdout",
          "text": [
            "Transpose of the matrix A is\n",
            "1  4  0  2  -2  5  3  3  -1  \n",
            "a aT = [[  1   8   0]\n",
            " [  8 -10  30]\n",
            " [ -1   3  -3]]\n"
          ]
        }
      ]
    },
    {
      "cell_type": "code",
      "source": [
        "#Python code to find which rows vectors  form an orthogonal set\n",
        "# determine which a is an orthogonal matrix we \n",
        "# multiply the matrix by its transpose to get the identity matrix.\n",
        "\n",
        "M = 3\n",
        "N = 3\n",
        "\n",
        "def transpose(A, b):\n",
        "  for i in range(M):\n",
        "    for j in range(N):\n",
        "      B[i][j] = A[j][i]\n",
        "\n",
        "#driver code \n",
        "C = [[1, 2, 3],\n",
        "     [4, -2, 3],\n",
        "     [0, 5, -1]]\n",
        "\n",
        "\n",
        "# To store result\n",
        "B = [[0 for x in range(M)] for y in range(N)]\n",
        "\n",
        "transpose(A, B)\n",
        "\n",
        "print(\"Transpose of the matrix C is\")\n",
        "for i in range(N):\n",
        "  for j in range(M):\n",
        "    print(B[i][j], \" \", end='')\n",
        "print()\n",
        "\n",
        "# muliply A by this transpose \n",
        "\n",
        "import numpy as np\n",
        "\n",
        "c = [[1, 2, 3],\n",
        "     [4, 5, 6],\n",
        "     [-1, 1, 3]]\n",
        "\n",
        "arr1 = np.array(C)\n",
        "cT = arr1.transpose()\n",
        "\n",
        "\n",
        "\n",
        "result = c * cT\n",
        "print(\"a aT =\", result)\n",
        "\n"
      ],
      "metadata": {
        "colab": {
          "base_uri": "https://localhost:8080/"
        },
        "id": "ad5gKNyypxI7",
        "outputId": "8a5fd501-5dcf-4826-b81f-482a1bdb01f2"
      },
      "execution_count": null,
      "outputs": [
        {
          "output_type": "stream",
          "name": "stdout",
          "text": [
            "Transpose of the matrix is\n",
            "1  4  0  2  -2  5  1  3  -1  \n",
            "a aT = [[  1   8   0]\n",
            " [  8 -10  30]\n",
            " [ -3   3  -3]]\n"
          ]
        }
      ]
    },
    {
      "cell_type": "markdown",
      "source": [
        "This code is to check if a matrix is orthogonal or not , \n",
        "we would repeat this for A , B and C "
      ],
      "metadata": {
        "id": "3dnRUs8zjRNt"
      }
    },
    {
      "cell_type": "code",
      "source": [
        "# Python code to check\n",
        "# whether a matrix is\n",
        "# orthogonal or not\n",
        "\n",
        "def isOrthogonal(a, m, n) :\n",
        "\tif (m != n) :\n",
        "\t\treturn False\n",
        "\t\n",
        "\ttrans = [[0 for x in range(n)]\n",
        "\t\t\t\tfor y in range(n)]\n",
        "\t\t\t\t\n",
        "\t# Find transpose\n",
        "\tfor i in range(0, n) :\n",
        "\t\tfor j in range(0, n) :\n",
        "\t\t\ttrans[i][j] = a[j][i]\n",
        "\t\t\t\n",
        "\tprod = [[0 for x in range(n)]\n",
        "\t\t\tfor y in range(n)]\n",
        "\t\t\t\t\n",
        "\t# Find product of a[][]\n",
        "\t# and its transpose\n",
        "\tfor i in range(0, n) :\n",
        "\t\tfor j in range(0, n) :\n",
        "\t\n",
        "\t\t\tsum = 0\n",
        "\t\t\tfor k in range(0, n) :\n",
        "\t\t\n",
        "\t\t\t\t# Since we are multiplying\n",
        "\t\t\t\t# with transpose of itself.\n",
        "\t\t\t\t# We use\n",
        "\t\t\t\tsum = sum + (a[i][k] *\n",
        "\t\t\t\t\t\t\ta[j][k])\n",
        "\t\n",
        "\t\t\tprod[i][j] = sum\n",
        "\n",
        "\t# Check if product is\n",
        "\t# identity matrix\n",
        "\tfor i in range(0, n) :\n",
        "\t\tfor j in range(0, n) :\n",
        "\n",
        "\t\t\tif (i != j and prod[i][j] != 0) :\n",
        "\t\t\t\treturn False\n",
        "\t\t\tif (i == j and prod[i][j] != 1) :\n",
        "\t\t\t\treturn False\n",
        "\n",
        "\treturn True\n",
        "\n",
        "# Driver Code\n",
        "a = [[1, 2, 3],\n",
        "     [4, -2, 3],\n",
        "     [0, 5, -1]]\n",
        "\t\t\n",
        "if (isOrthogonal(a, 3, 3)) :\n",
        "\tprint (\"Yes\")\n",
        "else :\n",
        "\tprint (\"No\")\n",
        "\n"
      ],
      "metadata": {
        "colab": {
          "base_uri": "https://localhost:8080/"
        },
        "id": "jYLJeLVnjRwU",
        "outputId": "9f2d7407-982a-4f43-a768-14f3c4a76574"
      },
      "execution_count": null,
      "outputs": [
        {
          "output_type": "stream",
          "name": "stdout",
          "text": [
            "No\n"
          ]
        }
      ]
    },
    {
      "cell_type": "code",
      "source": [
        "# Python code to check\n",
        "# whether a matrix is\n",
        "# orthogonal or not\n",
        "\n",
        "def isOrthogonal(a, m, n) :\n",
        "\tif (m != n) :\n",
        "\t\treturn False\n",
        "\t\n",
        "\ttrans = [[0 for x in range(n)]\n",
        "\t\t\t\tfor y in range(n)]\n",
        "\t\t\t\t\n",
        "\t# Find transpose\n",
        "\tfor i in range(0, n) :\n",
        "\t\tfor j in range(0, n) :\n",
        "\t\t\ttrans[i][j] = a[j][i]\n",
        "\t\t\t\n",
        "\tprod = [[0 for x in range(n)]\n",
        "\t\t\tfor y in range(n)]\n",
        "\t\t\t\t\n",
        "\t# Find product of a[][]\n",
        "\t# and its transpose\n",
        "\tfor i in range(0, n) :\n",
        "\t\tfor j in range(0, n) :\n",
        "\t\n",
        "\t\t\tsum = 0\n",
        "\t\t\tfor k in range(0, n) :\n",
        "\t\t\n",
        "\t\t\t\t# Since we are multiplying\n",
        "\t\t\t\t# with transpose of itself.\n",
        "\t\t\t\t# We use\n",
        "\t\t\t\tsum = sum + (a[i][k] *\n",
        "\t\t\t\t\t\t\ta[j][k])\n",
        "\t\n",
        "\t\t\tprod[i][j] = sum\n",
        "\n",
        "\t# Check if product is\n",
        "\t# identity matrix\n",
        "\tfor i in range(0, n) :\n",
        "\t\tfor j in range(0, n) :\n",
        "\n",
        "\t\t\tif (i != j and prod[i][j] != 0) :\n",
        "\t\t\t\treturn False\n",
        "\t\t\tif (i == j and prod[i][j] != 1) :\n",
        "\t\t\t\treturn False\n",
        "\n",
        "\treturn True\n",
        "\n",
        "# Driver Code\n",
        "b = [[1, 2, 1],\n",
        "\t[2, 1, -4],\n",
        "\t[3, -2, 1]]\n",
        "\t\t\n",
        "if (isOrthogonal(a, 3, 3)) :\n",
        "\tprint (\"Yes\")\n",
        "else :\n",
        "\tprint (\"No\")\n",
        "\n",
        "\n"
      ],
      "metadata": {
        "colab": {
          "base_uri": "https://localhost:8080/"
        },
        "id": "hq0c4ms5mF3Z",
        "outputId": "54fda5c1-542a-419b-a794-511b44423c48"
      },
      "execution_count": null,
      "outputs": [
        {
          "output_type": "stream",
          "name": "stdout",
          "text": [
            "No\n"
          ]
        }
      ]
    },
    {
      "cell_type": "code",
      "source": [
        "# Python code to check\n",
        "# whether a matrix is\n",
        "# orthogonal or not\n",
        "\n",
        "def isOrthogonal(a, m, n) :\n",
        "\tif (m != n) :\n",
        "\t\treturn False\n",
        "\t\n",
        "\ttrans = [[0 for x in range(n)]\n",
        "\t\t\t\tfor y in range(n)]\n",
        "\t\t\t\t\n",
        "\t# Find transpose\n",
        "\tfor i in range(0, n) :\n",
        "\t\tfor j in range(0, n) :\n",
        "\t\t\ttrans[i][j] = a[j][i]\n",
        "\t\t\t\n",
        "\tprod = [[0 for x in range(n)]\n",
        "\t\t\tfor y in range(n)]\n",
        "\t\t\t\t\n",
        "\t# Find product of a[][]\n",
        "\t# and its transpose\n",
        "\tfor i in range(0, n) :\n",
        "\t\tfor j in range(0, n) :\n",
        "\t\n",
        "\t\t\tsum = 0\n",
        "\t\t\tfor k in range(0, n) :\n",
        "\t\t\n",
        "\t\t\t\t# Since we are multiplying\n",
        "\t\t\t\t# with transpose of itself.\n",
        "\t\t\t\t# We use\n",
        "\t\t\t\tsum = sum + (a[i][k] *\n",
        "\t\t\t\t\t\t\ta[j][k])\n",
        "\t\n",
        "\t\t\tprod[i][j] = sum\n",
        "\n",
        "\t# Check if product is\n",
        "\t# identity matrix\n",
        "\tfor i in range(0, n) :\n",
        "\t\tfor j in range(0, n) :\n",
        "\n",
        "\t\t\tif (i != j and prod[i][j] != 0) :\n",
        "\t\t\t\treturn False\n",
        "\t\t\tif (i == j and prod[i][j] != 1) :\n",
        "\t\t\t\treturn False\n",
        "\n",
        "\treturn True\n",
        "\n",
        "# Driver Code\n",
        "a = [[1, 2, 3],\n",
        "\t[4, 5, 6],\n",
        "\t[-1, 1, 3]]\n",
        "\t\t\n",
        "if (isOrthogonal(a, 3, 3)) :\n",
        "\tprint (\"Yes\")\n",
        "else :\n",
        "\tprint (\"No\")\n",
        "\n",
        "\n"
      ],
      "metadata": {
        "colab": {
          "base_uri": "https://localhost:8080/"
        },
        "id": "mJwLgMPYmgv3",
        "outputId": "0c3436d2-6d6a-413c-ca88-3b8ca7035427"
      },
      "execution_count": null,
      "outputs": [
        {
          "output_type": "stream",
          "name": "stdout",
          "text": [
            "No\n"
          ]
        }
      ]
    },
    {
      "cell_type": "markdown",
      "source": [
        "B(6) find the inverse of Matrix A and B "
      ],
      "metadata": {
        "id": "IE1gQtSs8x3u"
      }
    },
    {
      "cell_type": "code",
      "source": [
        "# Python program to inverse\n",
        "# a matrix using numpy\n",
        "\n",
        "import numpy as np\n",
        "\n",
        "a = [[1, 2, 3],\n",
        "     [4, -2, 3],\n",
        "     [0, 5, -1]]\n",
        "\n",
        "b = [[1, 2, 1],\n",
        "     [2, 1, -4],\n",
        "     [3, -2, 1]]\n",
        "\n",
        "\n",
        "# Taking a 3 * 3 matrix\n",
        "\n",
        "A = np.array(a)\n",
        "\n",
        "B = np.array(b)\n",
        "\n",
        "\n",
        "# Calculating the inverse of the matrix\n",
        "print(\"the Inverse of Matrix A\", np.linalg.inv(A))\n",
        "print(\"the Inverse of Matrix B\", np.linalg.inv(B))\n",
        "\n"
      ],
      "metadata": {
        "colab": {
          "base_uri": "https://localhost:8080/"
        },
        "id": "wMi1EZJy8wsO",
        "outputId": "cf2e68ed-f219-42a9-b5a3-868b3e1b3bc2"
      },
      "execution_count": 30,
      "outputs": [
        {
          "output_type": "stream",
          "name": "stdout",
          "text": [
            "the Inverse of Matrix A [[-0.23636364  0.30909091  0.21818182]\n",
            " [ 0.07272727 -0.01818182  0.16363636]\n",
            " [ 0.36363636 -0.09090909 -0.18181818]]\n",
            "the Inverse of Matrix B [[ 0.16666667  0.0952381   0.21428571]\n",
            " [ 0.33333333  0.04761905 -0.14285714]\n",
            " [ 0.16666667 -0.19047619  0.07142857]]\n"
          ]
        }
      ]
    },
    {
      "cell_type": "code",
      "source": [
        "#python code to find the inverse \n",
        "# of c \n",
        "\n",
        "import numpy as np\n",
        "\n",
        "c = [[1, 2, 3],\n",
        "     [4, 5, 6],\n",
        "     [-1, 1, 3]]\n",
        "\n",
        "C = np.array(c)\n",
        "\n",
        "Mainv = np.linalg.inv(C)\n",
        "\n",
        "\n",
        "print(Mainv)"
      ],
      "metadata": {
        "colab": {
          "base_uri": "https://localhost:8080/",
          "height": 415
        },
        "id": "QHBsOOC-_NAp",
        "outputId": "d663ebc5-fde2-4756-92b5-3a3aae9aab88"
      },
      "execution_count": 10,
      "outputs": [
        {
          "output_type": "error",
          "ename": "LinAlgError",
          "evalue": "ignored",
          "traceback": [
            "\u001b[0;31m---------------------------------------------------------------------------\u001b[0m",
            "\u001b[0;31mLinAlgError\u001b[0m                               Traceback (most recent call last)",
            "\u001b[0;32m<ipython-input-10-5535226e99f9>\u001b[0m in \u001b[0;36m<module>\u001b[0;34m\u001b[0m\n\u001b[1;32m     10\u001b[0m \u001b[0mC\u001b[0m \u001b[0;34m=\u001b[0m \u001b[0mnp\u001b[0m\u001b[0;34m.\u001b[0m\u001b[0marray\u001b[0m\u001b[0;34m(\u001b[0m\u001b[0mc\u001b[0m\u001b[0;34m)\u001b[0m\u001b[0;34m\u001b[0m\u001b[0;34m\u001b[0m\u001b[0m\n\u001b[1;32m     11\u001b[0m \u001b[0;34m\u001b[0m\u001b[0m\n\u001b[0;32m---> 12\u001b[0;31m \u001b[0mMainv\u001b[0m \u001b[0;34m=\u001b[0m \u001b[0mnp\u001b[0m\u001b[0;34m.\u001b[0m\u001b[0mlinalg\u001b[0m\u001b[0;34m.\u001b[0m\u001b[0minv\u001b[0m\u001b[0;34m(\u001b[0m\u001b[0mC\u001b[0m\u001b[0;34m)\u001b[0m\u001b[0;34m\u001b[0m\u001b[0;34m\u001b[0m\u001b[0m\n\u001b[0m\u001b[1;32m     13\u001b[0m \u001b[0;34m\u001b[0m\u001b[0m\n\u001b[1;32m     14\u001b[0m \u001b[0;34m\u001b[0m\u001b[0m\n",
            "\u001b[0;32m<__array_function__ internals>\u001b[0m in \u001b[0;36minv\u001b[0;34m(*args, **kwargs)\u001b[0m\n",
            "\u001b[0;32m/usr/local/lib/python3.7/dist-packages/numpy/linalg/linalg.py\u001b[0m in \u001b[0;36minv\u001b[0;34m(a)\u001b[0m\n\u001b[1;32m    543\u001b[0m     \u001b[0msignature\u001b[0m \u001b[0;34m=\u001b[0m \u001b[0;34m'D->D'\u001b[0m \u001b[0;32mif\u001b[0m \u001b[0misComplexType\u001b[0m\u001b[0;34m(\u001b[0m\u001b[0mt\u001b[0m\u001b[0;34m)\u001b[0m \u001b[0;32melse\u001b[0m \u001b[0;34m'd->d'\u001b[0m\u001b[0;34m\u001b[0m\u001b[0;34m\u001b[0m\u001b[0m\n\u001b[1;32m    544\u001b[0m     \u001b[0mextobj\u001b[0m \u001b[0;34m=\u001b[0m \u001b[0mget_linalg_error_extobj\u001b[0m\u001b[0;34m(\u001b[0m\u001b[0m_raise_linalgerror_singular\u001b[0m\u001b[0;34m)\u001b[0m\u001b[0;34m\u001b[0m\u001b[0;34m\u001b[0m\u001b[0m\n\u001b[0;32m--> 545\u001b[0;31m     \u001b[0mainv\u001b[0m \u001b[0;34m=\u001b[0m \u001b[0m_umath_linalg\u001b[0m\u001b[0;34m.\u001b[0m\u001b[0minv\u001b[0m\u001b[0;34m(\u001b[0m\u001b[0ma\u001b[0m\u001b[0;34m,\u001b[0m \u001b[0msignature\u001b[0m\u001b[0;34m=\u001b[0m\u001b[0msignature\u001b[0m\u001b[0;34m,\u001b[0m \u001b[0mextobj\u001b[0m\u001b[0;34m=\u001b[0m\u001b[0mextobj\u001b[0m\u001b[0;34m)\u001b[0m\u001b[0;34m\u001b[0m\u001b[0;34m\u001b[0m\u001b[0m\n\u001b[0m\u001b[1;32m    546\u001b[0m     \u001b[0;32mreturn\u001b[0m \u001b[0mwrap\u001b[0m\u001b[0;34m(\u001b[0m\u001b[0mainv\u001b[0m\u001b[0;34m.\u001b[0m\u001b[0mastype\u001b[0m\u001b[0;34m(\u001b[0m\u001b[0mresult_t\u001b[0m\u001b[0;34m,\u001b[0m \u001b[0mcopy\u001b[0m\u001b[0;34m=\u001b[0m\u001b[0;32mFalse\u001b[0m\u001b[0;34m)\u001b[0m\u001b[0;34m)\u001b[0m\u001b[0;34m\u001b[0m\u001b[0;34m\u001b[0m\u001b[0m\n\u001b[1;32m    547\u001b[0m \u001b[0;34m\u001b[0m\u001b[0m\n",
            "\u001b[0;32m/usr/local/lib/python3.7/dist-packages/numpy/linalg/linalg.py\u001b[0m in \u001b[0;36m_raise_linalgerror_singular\u001b[0;34m(err, flag)\u001b[0m\n\u001b[1;32m     86\u001b[0m \u001b[0;34m\u001b[0m\u001b[0m\n\u001b[1;32m     87\u001b[0m \u001b[0;32mdef\u001b[0m \u001b[0m_raise_linalgerror_singular\u001b[0m\u001b[0;34m(\u001b[0m\u001b[0merr\u001b[0m\u001b[0;34m,\u001b[0m \u001b[0mflag\u001b[0m\u001b[0;34m)\u001b[0m\u001b[0;34m:\u001b[0m\u001b[0;34m\u001b[0m\u001b[0;34m\u001b[0m\u001b[0m\n\u001b[0;32m---> 88\u001b[0;31m     \u001b[0;32mraise\u001b[0m \u001b[0mLinAlgError\u001b[0m\u001b[0;34m(\u001b[0m\u001b[0;34m\"Singular matrix\"\u001b[0m\u001b[0;34m)\u001b[0m\u001b[0;34m\u001b[0m\u001b[0;34m\u001b[0m\u001b[0m\n\u001b[0m\u001b[1;32m     89\u001b[0m \u001b[0;34m\u001b[0m\u001b[0m\n\u001b[1;32m     90\u001b[0m \u001b[0;32mdef\u001b[0m \u001b[0m_raise_linalgerror_nonposdef\u001b[0m\u001b[0;34m(\u001b[0m\u001b[0merr\u001b[0m\u001b[0;34m,\u001b[0m \u001b[0mflag\u001b[0m\u001b[0;34m)\u001b[0m\u001b[0;34m:\u001b[0m\u001b[0;34m\u001b[0m\u001b[0;34m\u001b[0m\u001b[0m\n",
            "\u001b[0;31mLinAlgError\u001b[0m: Singular matrix"
          ]
        }
      ]
    },
    {
      "cell_type": "markdown",
      "source": [
        "B(8) the product of A d"
      ],
      "metadata": {
        "id": "yuqBx3k4Phfo"
      }
    },
    {
      "cell_type": "code",
      "source": [
        "#python code to find the product  of \n",
        "# A and d \n",
        "\n",
        "import numpy as np\n",
        "\n",
        "A = [[1, 2, 3],\n",
        "     [4, -2, 3],\n",
        "     [0, 5, -1]]\n",
        "\n",
        "d = [[1],\n",
        "     [2],\n",
        "     [3]]\n",
        "\n",
        "Ad = np.multiply(A, d)\n",
        "print(Ad)"
      ],
      "metadata": {
        "colab": {
          "base_uri": "https://localhost:8080/"
        },
        "id": "W_VWRCQ3PxKG",
        "outputId": "57a6e833-a1c1-405d-afac-331119bb6fe2"
      },
      "execution_count": 11,
      "outputs": [
        {
          "output_type": "stream",
          "name": "stdout",
          "text": [
            "[[ 1  2  3]\n",
            " [ 8 -4  6]\n",
            " [ 0 15 -3]]\n"
          ]
        }
      ]
    },
    {
      "cell_type": "markdown",
      "source": [
        "B(9) The scalar Projection of the rows of A unto the vector d \n",
        "the scalar projection is pA(d) = |d|cos(0)  =  A . d/ |d|\n"
      ],
      "metadata": {
        "id": "slbHQqi1eJZj"
      }
    },
    {
      "cell_type": "code",
      "source": [
        "#python code to calculate the scalar projection of the rows of A unto \n",
        "#rows d\n",
        "\n",
        "import numpy as np\n",
        "import math\n",
        "\n",
        "\n",
        "A = [[1, 2, 3],\n",
        "     [4, -2, 3],\n",
        "     [0, 5, -1]]\n",
        "\n",
        "d = [[1],\n",
        "     [2],\n",
        "     [3]]\n",
        "\n",
        "#find the magnitude of A \n",
        "value = np.array(A)\n",
        "sqrsum = np.sum(value**2)\n",
        "mag = math.sqrt(sqrsum)\n",
        "\n",
        "print(\"magnitude of A =\", mag)\n",
        "\n",
        "#find the dot product of A and d\n",
        "dotP = np.dot(A, d)\n",
        "print(\"The Dot Product of A and d = \", dotP)\n",
        "\n",
        "#the scalar projection of A unto d with normalization of d \n",
        "\n",
        "scalPro = dotP / mag\n",
        "print(\"scalar Projection = \", scalPro)"
      ],
      "metadata": {
        "colab": {
          "base_uri": "https://localhost:8080/"
        },
        "id": "leSCVnnhe-MA",
        "outputId": "389f85f4-0cbc-423c-cff5-46664309b902"
      },
      "execution_count": 8,
      "outputs": [
        {
          "output_type": "stream",
          "name": "stdout",
          "text": [
            "magnitude of A = 8.306623862918075\n",
            "The Dot Product of A and d =  [[14]\n",
            " [ 9]\n",
            " [ 7]]\n",
            "scalar Projection =  [[1.68540194]\n",
            " [1.08347268]\n",
            " [0.84270097]]\n"
          ]
        }
      ]
    },
    {
      "cell_type": "markdown",
      "source": [
        "B(10) The vector projection of rows of A unto d "
      ],
      "metadata": {
        "id": "ZcCEj-8zr1_H"
      }
    },
    {
      "cell_type": "code",
      "source": [
        "#Python code to calculate the scalar vector of rows A unto d \n",
        "\n",
        "import numpy as np\n",
        "import math\n",
        "\n",
        "A = [[1, 2, 3],\n",
        "     [4, -2, 3],\n",
        "     [0, 5, -1]]\n",
        "\n",
        "d = [[1],\n",
        "     [2],\n",
        "     [3]]\n",
        "a = np.array(A)\n",
        "dv = np.array(d)\n",
        "\n",
        "d_norm = np.sqrt(sum(dv**2))\n",
        "print(\"normalization of d = \", d_norm)\n",
        "\n",
        "proj_of_A_unto_d = (np.dot(a, dv)/d_norm**2)*dv\n",
        "print(\"The scalar Vector of A unto d = \", proj_of_A_unto_d)"
      ],
      "metadata": {
        "colab": {
          "base_uri": "https://localhost:8080/"
        },
        "id": "8THzO8EsscRJ",
        "outputId": "6bd54d2c-8307-4d35-bf0a-86f1c386ecff"
      },
      "execution_count": 11,
      "outputs": [
        {
          "output_type": "stream",
          "name": "stdout",
          "text": [
            "normalization of d =  [3.74165739]\n",
            "The scalar Vector of A unto d =  [[1.        ]\n",
            " [1.28571429]\n",
            " [1.5       ]]\n"
          ]
        }
      ]
    },
    {
      "cell_type": "markdown",
      "source": [
        "B(11) calculate the linear combination of the columus of A using elements of d"
      ],
      "metadata": {
        "id": "sdeQu6xJ1fiH"
      }
    },
    {
      "cell_type": "code",
      "source": [
        "from sympy.solvers.diophantine.diophantine import Linear\n",
        "#python code to calulate the linear combination of the colums of \n",
        "# A using the elements of d \n",
        "\n",
        "import numpy as np\n",
        "import math\n",
        "\n",
        "A = [[1, 2, 3],\n",
        "     [4, -2, 3],\n",
        "     [0, 5, -1]]\n",
        "\n",
        "#colums of A =\n",
        "\n",
        "A1 = [[1],\n",
        "      [4],\n",
        "      [0]]\n",
        "\n",
        "A2 = [[2],\n",
        "      [-2],\n",
        "      [5]]\n",
        "\n",
        "A3 = [[3],\n",
        "      [3],\n",
        "      [-1]]\n",
        "\n",
        "\n",
        "d = [[1],\n",
        "     [2],\n",
        "     [3]]\n",
        "\n",
        "a1 = np.array(A1)\n",
        "a2 = np.array(A2)\n",
        "a3 = np.array(A3)\n",
        "\n",
        "#elements of d \n",
        "1, 2, 3\n",
        "\n",
        "licomb1 = a1 * 1\n",
        "licomb2 = a2 * 2\n",
        "licomb3 = a3 * 3\n",
        "\n",
        "print(\"linear combination of the colums of A  \")\n",
        "print(licomb1)\n",
        "print(licomb2)\n",
        "print(licomb3)\n",
        "\n"
      ],
      "metadata": {
        "colab": {
          "base_uri": "https://localhost:8080/"
        },
        "id": "pH1gHofuhB08",
        "outputId": "871ee5ab-0a90-493a-aa5d-693ff5f99ac4"
      },
      "execution_count": 3,
      "outputs": [
        {
          "output_type": "stream",
          "name": "stdout",
          "text": [
            "linear combination of the colums of A  \n",
            "[[1]\n",
            " [4]\n",
            " [0]]\n",
            "[[ 4]\n",
            " [-4]\n",
            " [10]]\n",
            "[[ 9]\n",
            " [ 9]\n",
            " [-3]]\n"
          ]
        }
      ]
    },
    {
      "cell_type": "markdown",
      "source": [
        "B(12) the solutuon x in the equation Bx = d\n",
        "to find x we divide both sides of the equation by B "
      ],
      "metadata": {
        "id": "KXQNPLMJxKx8"
      }
    },
    {
      "cell_type": "code",
      "source": [
        "#python code to divide d by B to find x \n",
        "\n",
        "import numpy as np\n",
        "\n",
        "B = [[1, 2, 1],\n",
        "     [2, 1, -4],\n",
        "     [3, -2, 1]]\n",
        "\n",
        "d = [[1],\n",
        "     [2],\n",
        "     [3]]\n",
        "\n",
        "x = np.divide(d, B)\n",
        "print(x)\n"
      ],
      "metadata": {
        "colab": {
          "base_uri": "https://localhost:8080/"
        },
        "id": "pNvdF_dGyGQ_",
        "outputId": "dee5d185-59ef-4195-d765-aa5a62ac0e8e"
      },
      "execution_count": 9,
      "outputs": [
        {
          "output_type": "stream",
          "name": "stdout",
          "text": [
            "[[ 1.   0.5  1. ]\n",
            " [ 1.   2.  -0.5]\n",
            " [ 1.  -1.5  3. ]]\n"
          ]
        }
      ]
    },
    {
      "cell_type": "markdown",
      "source": [
        "B(13) the solution for the equation Cx = d "
      ],
      "metadata": {
        "id": "UBHkXMLfIzhY"
      }
    },
    {
      "cell_type": "code",
      "source": [
        "#python code to divide d by C to find x \n",
        "\n",
        "import numpy as np\n",
        "\n",
        "C = [[1, 2, 3],\n",
        "     [4, 5, 6],\n",
        "     [-1, 1, 3]]\n",
        "\n",
        "d = [[1],\n",
        "     [2],\n",
        "     [3]]\n",
        "\n",
        "x = np.divide(d, C)\n",
        "print(x)\n"
      ],
      "metadata": {
        "colab": {
          "base_uri": "https://localhost:8080/"
        },
        "id": "k9Dk0358JpD2",
        "outputId": "94d88454-5d2b-4003-cbf2-591a6a248372"
      },
      "execution_count": 8,
      "outputs": [
        {
          "output_type": "stream",
          "name": "stdout",
          "text": [
            "[[ 1.          0.5         0.33333333]\n",
            " [ 0.5         0.4         0.33333333]\n",
            " [-3.          3.          1.        ]]\n"
          ]
        }
      ]
    },
    {
      "cell_type": "markdown",
      "source": [
        "The inverse of matrix of C"
      ],
      "metadata": {
        "id": "mE1hk4E5vuSc"
      }
    },
    {
      "cell_type": "markdown",
      "source": [
        "C(1) The eigenvalue and corresponding eigenvector"
      ],
      "metadata": {
        "id": "ppW7lB6wC_iu"
      }
    },
    {
      "cell_type": "code",
      "source": [
        "#python code to find the eigenvalue and corresponding eigenvector\n",
        "\n",
        "import numpy as np\n",
        "from numpy.linalg import eig\n",
        "\n",
        "d = np.array([[1, 2], \n",
        "              [3, 2]])\n",
        "w,v=eig(d)\n",
        "print('E-value:', w)\n",
        "print('E-vector', v)\n",
        "\n",
        "evec = np.array(v)\n",
        "print(evec)\n"
      ],
      "metadata": {
        "colab": {
          "base_uri": "https://localhost:8080/"
        },
        "id": "2YSbG1s5Dr76",
        "outputId": "ce2fb933-492f-49ee-d32d-712e84dd111e"
      },
      "execution_count": null,
      "outputs": [
        {
          "output_type": "stream",
          "name": "stdout",
          "text": [
            "E-value: [-1.  4.]\n",
            "E-vector [[-0.70710678 -0.5547002 ]\n",
            " [ 0.70710678 -0.83205029]]\n",
            "[[-0.70710678 -0.5547002 ]\n",
            " [ 0.70710678 -0.83205029]]\n"
          ]
        }
      ]
    },
    {
      "cell_type": "markdown",
      "source": [
        "C(3) The Dot product between the eigenvectors of E"
      ],
      "metadata": {
        "id": "CtSzsp_BT02D"
      }
    },
    {
      "cell_type": "code",
      "source": [
        "#Python code to find the dot product of the \n",
        "#eigenvectors of E\n",
        "\n",
        "#first find the eigenvectors\n",
        "\n",
        "import numpy as np\n",
        "from numpy.linalg import eig\n",
        "\n",
        "e = [[2, -2],\n",
        "     [-2, 5]]\n",
        "\n",
        "E = np.array(e)\n",
        "\n",
        "w,v=eig(e)\n",
        "print(\"Eigenvector\", v)\n",
        "\n",
        "eigenvector = np.array(v)\n",
        "print(eigenvector)"
      ],
      "metadata": {
        "colab": {
          "base_uri": "https://localhost:8080/"
        },
        "id": "4TkmGA48YX-w",
        "outputId": "9edc2849-f277-4b42-bdb3-30dc51bdce21"
      },
      "execution_count": 3,
      "outputs": [
        {
          "output_type": "stream",
          "name": "stdout",
          "text": [
            "Eigenvector [[-0.89442719  0.4472136 ]\n",
            " [-0.4472136  -0.89442719]]\n",
            "[[-0.89442719  0.4472136 ]\n",
            " [-0.4472136  -0.89442719]]\n"
          ]
        }
      ]
    },
    {
      "cell_type": "markdown",
      "source": [
        "C(4) the property of the eigenvector E and its reason "
      ],
      "metadata": {
        "id": "h2yzSms-R0TB"
      }
    },
    {
      "cell_type": "markdown",
      "source": [
        "C(5) Find the value of the trivial solution to the equation fx = 0 "
      ],
      "metadata": {
        "id": "hl3peMiPgGNZ"
      }
    },
    {
      "cell_type": "code",
      "source": [
        "\n"
      ],
      "metadata": {
        "id": "_PSCcDA7ugIC"
      },
      "execution_count": null,
      "outputs": []
    }
  ]
}